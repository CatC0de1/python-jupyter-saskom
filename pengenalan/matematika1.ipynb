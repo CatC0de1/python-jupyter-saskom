{
 "cells": [
  {
   "cell_type": "code",
   "execution_count": 1,
   "id": "48cb1064-0972-49a5-b1df-a084cf55370d",
   "metadata": {},
   "outputs": [],
   "source": [
    "from numpy import array"
   ]
  },
  {
   "cell_type": "code",
   "execution_count": 43,
   "id": "4b21a237-6397-4a96-bcc3-2fcc81d5d437",
   "metadata": {},
   "outputs": [
    {
     "name": "stdout",
     "output_type": "stream",
     "text": [
      "Matrik A =\n",
      "[[ 8.  5.  6.]\n",
      " [ 4.  5.  2.]\n",
      " [ 9.  7. 10.]]\n",
      "Matrik B =\n",
      "[[5. 5. 6.]\n",
      " [4. 5. 2.]\n",
      " [9. 7. 6.]]\n",
      "A + B =\n",
      "[[13. 10. 12.]\n",
      " [ 8. 10.  4.]\n",
      " [18. 14. 16.]]\n",
      "A - B =\n",
      "[[3. 0. 0.]\n",
      " [0. 0. 0.]\n",
      " [0. 0. 4.]]\n"
     ]
    }
   ],
   "source": [
    "matA = array([[8.,5.,6.],\\\n",
    "             [4.,5.,2.,],\\\n",
    "             [9.,7.,10.]])\n",
    "print(\"Matrik A =\")\n",
    "print(matA)\n",
    "\n",
    "matB = array([[5.,5.,6.],\\\n",
    "              [4.,5.,2.],\\\n",
    "             [9.,7.,6.]])\n",
    "print(\"Matrik B =\")\n",
    "print(matB)\n",
    "\n",
    "#praktik 1\n",
    "print(\"A + B =\")\n",
    "print(matA+matB)\n",
    "\n",
    "#praktik 2\n",
    "print(\"A - B =\")\n",
    "print(matA-matB)"
   ]
  },
  {
   "cell_type": "code",
   "execution_count": 17,
   "id": "92ba0a69-ec61-471b-a889-56518ef2dae7",
   "metadata": {},
   "outputs": [
    {
     "name": "stdout",
     "output_type": "stream",
     "text": [
      "[[12.  0.  0.]\n",
      " [ 0.  0.  0.]]\n",
      "[[12. 13.  0.]\n",
      " [ 0.  0.  0.]]\n",
      "[[12. 13.  8.]\n",
      " [ 0.  0.  0.]]\n",
      "[[12. 13.  8.]\n",
      " [13.  0.  0.]]\n",
      "[[12. 13.  8.]\n",
      " [13.  6.  0.]]\n",
      "[[12. 13.  8.]\n",
      " [13.  6.  8.]]\n"
     ]
    }
   ],
   "source": [
    "#praktik 3\n",
    "from numpy import array, zeros\n",
    "A = array([[3.,8.,5.],\\\n",
    "          [6.,4.,7.]])\n",
    "C = array([[9.,5.,3.],\\\n",
    "          [7.,2.,1.]])\n",
    "n=2\n",
    "m=3\n",
    "D = zeros((n,m))\n",
    "for i in range (0,n):\n",
    "    for j in range(0,m):\n",
    "        D[i][j]=A[i][j]+C[i][j]\n",
    "        print (D)\n",
    "\n",
    "# output itu adalah logika penjumlahan A dan C secara urut, \n",
    "#  dari baris dan kolom satu hingga baris dan kolom terakhir"
   ]
  },
  {
   "cell_type": "code",
   "execution_count": 39,
   "id": "6b288bde-972b-4073-8214-cf59bd11eeac",
   "metadata": {},
   "outputs": [
    {
     "name": "stdout",
     "output_type": "stream",
     "text": [
      "[[3. 0.]\n",
      " [0. 0.]]\n",
      "[[43.  0.]\n",
      " [ 0.  0.]]\n",
      "[[53.  0.]\n",
      " [ 0.  0.]]\n",
      "[[53.  9.]\n",
      " [ 0.  0.]]\n",
      "[[53. 81.]\n",
      " [ 0.  0.]]\n",
      "[[ 53. 101.]\n",
      " [  0.   0.]]\n",
      "[[ 53. 101.]\n",
      " [  6.   0.]]\n",
      "[[ 53. 101.]\n",
      " [ 26.   0.]]\n",
      "[[ 53. 101.]\n",
      " [ 40.   0.]]\n",
      "[[ 53. 101.]\n",
      " [ 40.  18.]]\n",
      "[[ 53. 101.]\n",
      " [ 40.  54.]]\n",
      "[[ 53. 101.]\n",
      " [ 40.  82.]]\n"
     ]
    }
   ],
   "source": [
    "#praktik 4\n",
    "B = array([[1.,3.],\\\n",
    "          [5.,9.],\\\n",
    "          [2.,4.]])\n",
    "p=2\n",
    "\n",
    "E = zeros((n,p))\n",
    "for i in range(0,n):\n",
    "    for j in range(0,p):\n",
    "        for k in range(0,m):\n",
    "            E[i][j]=E[i][j]+A[i][k]*B[k][j]\n",
    "            print(E)\n",
    "\n",
    "# outputnya adalah hasil dari perkalian matriks antara dua matriks A dan B, \n",
    "#  menghasilkan matriks baru E. perkaliannya ialah perkalian biasa (bukan perkalian matrik), \n",
    "#   di mana setiap elemen matriks hasil diperoleh dengan mengalikan elemen-elemen \n",
    "#    yang sesuai dari baris di matriks A dengan kolom di matriks B, lalu menjumlahkannya."
   ]
  },
  {
   "cell_type": "code",
   "execution_count": 41,
   "id": "ad8b1544-af6a-41d3-be8a-e7cba50026e4",
   "metadata": {},
   "outputs": [
    {
     "name": "stdout",
     "output_type": "stream",
     "text": [
      "[[6.]\n",
      " [0.]]\n",
      "[[30.]\n",
      " [ 0.]]\n",
      "[[50.]\n",
      " [ 0.]]\n",
      "[[50.]\n",
      " [12.]]\n",
      "[[50.]\n",
      " [24.]]\n",
      "[[50.]\n",
      " [52.]]\n"
     ]
    }
   ],
   "source": [
    "#praktik 5\n",
    "A1 = array([[3.,8.,5.],\\\n",
    "           [6.,4.,7.]])\n",
    "x = array([[2.],\\\n",
    "          [3.],\\\n",
    "          [4.]])\n",
    "E = zeros((n,1))\n",
    "for i in range(0,n):\n",
    "    for k in range(0,m):\n",
    "        E[i][0]=E[i][0]+A1[i][k]*x[k][0]\n",
    "        print(E)\n",
    "\n",
    "# outpunya ialah akan dilakukan perkalian antara matriks A1 dengaan vektor kolom x, \n",
    "#  menghasilkan vektor hasil E. untuk operasi komputasi nya mirip seperti praktik 4."
   ]
  },
  {
   "cell_type": "code",
   "execution_count": 47,
   "id": "ce5ee694-d9a4-42fb-a430-0f160cf1d913",
   "metadata": {},
   "outputs": [
    {
     "name": "stdout",
     "output_type": "stream",
     "text": [
      "[20, 8, 9]\n",
      "[9, 5, 8]\n"
     ]
    }
   ],
   "source": [
    "#praktik 6\n",
    "X = [[20,9],\n",
    "     [8,5],\n",
    "     [9,8]]\n",
    "\n",
    "result = [[0,0,0],\n",
    "          [0,0,0]]\n",
    "\n",
    "for i in range(len(X)):\n",
    "    for j in range(len(X[0])):\n",
    "        result[j][i] = X[i][j]\n",
    "\n",
    "for r in result:\n",
    "    print(r)\n",
    "\n",
    "# output nya adalah hasil transpose dari matrik X.\n",
    "#  (menukar baris menjadi kolom dan kolom menjadi baris)"
   ]
  },
  {
   "cell_type": "code",
   "execution_count": 51,
   "id": "0b5c5808-10af-42c7-8479-b5e36f10d9b1",
   "metadata": {},
   "outputs": [
    {
     "name": "stdout",
     "output_type": "stream",
     "text": [
      "56\n"
     ]
    }
   ],
   "source": [
    "#praktik 7\n",
    "a=5\n",
    "b=6\n",
    "c=7\n",
    "y=a*2+b*3+c*4\n",
    "print(y)\n",
    "\n",
    "# outputnya hanyalah operasi aritmatika sederhana. (5x2)+(6x3)+(7x4)"
   ]
  },
  {
   "cell_type": "code",
   "execution_count": 57,
   "id": "b0c5efde-e251-4815-bc60-47471b769611",
   "metadata": {},
   "outputs": [
    {
     "data": {
      "text/plain": [
       "230"
      ]
     },
     "execution_count": 57,
     "metadata": {},
     "output_type": "execute_result"
    }
   ],
   "source": [
    "#praktik 8\n",
    "def rumus(a,b):\n",
    "    y=25*a+60*b\n",
    "    return y\n",
    "\n",
    "rumus(2,3)\n",
    "\n",
    "# operasi matematikanya seperti praktik 7, namun kali ini hanya memakai function"
   ]
  },
  {
   "cell_type": "code",
   "execution_count": 68,
   "id": "dbd6e13f-daf7-4f5a-8ae8-92aaaeeb634d",
   "metadata": {},
   "outputs": [
    {
     "data": {
      "text/plain": [
       "56"
      ]
     },
     "execution_count": 68,
     "metadata": {},
     "output_type": "execute_result"
    }
   ],
   "source": [
    "#praktik 9\n",
    "class matematika():\n",
    "    def rumus1(a,b,c):\n",
    "        y=a*2+b*3+c*4\n",
    "        return y\n",
    "\n",
    "matematika.rumus1(5,6,7)\n",
    "\n",
    "# sama seperti praktik sebelumnya, namun kali ini menggunakan class"
   ]
  },
  {
   "cell_type": "code",
   "execution_count": 70,
   "id": "c352b02c-a2d5-4a97-bdd1-e04b040f9f57",
   "metadata": {},
   "outputs": [
    {
     "data": {
      "text/plain": [
       "(56, 210)"
      ]
     },
     "execution_count": 70,
     "metadata": {},
     "output_type": "execute_result"
    }
   ],
   "source": [
    "#praktik 10\n",
    "class matematika():\n",
    "    def rumus2(a,b,c):\n",
    "        x=a*2+b*3+c*4\n",
    "        y=a*b*c\n",
    "        return x,y\n",
    "\n",
    "matematika.rumus2(5,6,7)\n",
    "\n",
    "# mirip seperti praktik 9"
   ]
  },
  {
   "cell_type": "code",
   "execution_count": 80,
   "id": "bfb18740-1690-4cd7-87fa-cce3b27a42c3",
   "metadata": {},
   "outputs": [
    {
     "name": "stdout",
     "output_type": "stream",
     "text": [
      "22\n",
      "18 8\n"
     ]
    },
    {
     "data": {
      "text/plain": [
       "(18, 8)"
      ]
     },
     "execution_count": 80,
     "metadata": {},
     "output_type": "execute_result"
    }
   ],
   "source": [
    "#praktik 11\n",
    "class matematika():\n",
    "    def rumus3(a,b,c):\n",
    "        x=a*6+b*8+c*8\n",
    "        print(x)\n",
    "        return x\n",
    "    def rumus4(a,b,c):\n",
    "        x=a*2+b*3+c*4\n",
    "        y=a*b*c\n",
    "        print(x,y)\n",
    "        return x,y\n",
    "\n",
    "matematika.rumus3(1,1,1)\n",
    "matematika.rumus4(2,2,2)\n",
    "\n",
    "# mirip seperti praktik sebelumnya, bedanya ada 2 function/method.\n",
    "#  (ada sedikit kesalahan logika pemanggilan return di rumus3, return x ditimpa return x,y. jadi output nya tidak muncul)"
   ]
  },
  {
   "cell_type": "code",
   "execution_count": 24,
   "id": "b5357d21-1ba2-4b37-bbe1-181d3dc0271c",
   "metadata": {},
   "outputs": [],
   "source": [
    "#praktik 12\n",
    "# class rumus3(a,b,c):\n",
    "#     x=a*6+b*8+c*8\n",
    "#     return x\n",
    "\n",
    "# rumus3(1,1,1)\n",
    "\n",
    "# agak berbeda dengan praktik 9, nilai x tidak bisa dipanggil melalui return hanya bermodal class"
   ]
  },
  {
   "cell_type": "code",
   "execution_count": 1,
   "id": "c734e854-a3af-48a0-9a9d-5efe97cc416c",
   "metadata": {},
   "outputs": [],
   "source": [
    "#praktik 13\n",
    "class matematika():\n",
    "    def rumus3(a,b,c):\n",
    "        x=a*6+b*8+c*8\n",
    "        # print(x)\n",
    "        return x\n",
    "    def rumus4(a,b,c):\n",
    "        x=a*2+b*3+c*4\n",
    "        y=a*b*c\n",
    "        # print(x,y)\n",
    "        return x,y"
   ]
  },
  {
   "cell_type": "code",
   "execution_count": 30,
   "id": "412f47e7-71c8-4221-9b1b-a9961c21647b",
   "metadata": {},
   "outputs": [],
   "source": [
    "#praktik 14\n",
    "\n",
    "# melalui cmd \"cd C:/Users/arman\", \"jupyter nbconvert --to script matematika1.ipnyb\"\n",
    "# atau melalui UI Jupiter. file, rename/save as, ubah format .ipynb ke .py"
   ]
  },
  {
   "cell_type": "code",
   "execution_count": 46,
   "id": "601334c8-8127-4c44-a3b3-05bb208c2a54",
   "metadata": {},
   "outputs": [],
   "source": [
    "#praktik 15\n",
    "class matematika():\n",
    "    def rumus3(a,b,c):\n",
    "        x=a*6+b*8+c*8\n",
    "        # print(x)\n",
    "        return x\n",
    "    def rumus4(a,b,c):\n",
    "        x=a*2+b*3+c*4\n",
    "        y=a*b*c\n",
    "        # print(x,y)\n",
    "        return x,y"
   ]
  },
  {
   "cell_type": "code",
   "execution_count": null,
   "id": "478ae195-0105-47ac-af7b-b36d047e4a69",
   "metadata": {},
   "outputs": [],
   "source": []
  }
 ],
 "metadata": {
  "kernelspec": {
   "display_name": "Python 3 (ipykernel)",
   "language": "python",
   "name": "python3"
  },
  "language_info": {
   "codemirror_mode": {
    "name": "ipython",
    "version": 3
   },
   "file_extension": ".py",
   "mimetype": "text/x-python",
   "name": "python",
   "nbconvert_exporter": "python",
   "pygments_lexer": "ipython3",
   "version": "3.12.4"
  }
 },
 "nbformat": 4,
 "nbformat_minor": 5
}
