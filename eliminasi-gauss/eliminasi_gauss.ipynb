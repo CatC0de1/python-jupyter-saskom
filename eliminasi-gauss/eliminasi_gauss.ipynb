{
 "cells": [
  {
   "cell_type": "code",
   "execution_count": 1,
   "id": "54dc3d1a-deb6-4718-a4c9-2ccb6f442b29",
   "metadata": {},
   "outputs": [
    {
     "name": "stdout",
     "output_type": "stream",
     "text": [
      "1 - 10\n",
      "2 - 200\n",
      "3 - 3000\n",
      "4 - 40000\n",
      "5 - 500000\n",
      "6 - 6000000\n",
      "7 - 70000000\n"
     ]
    }
   ],
   "source": [
    "print(\"1 -\",1*10)\n",
    "print(\"2 -\",2*10*10)\n",
    "print(\"3 -\",3*10*10*10)\n",
    "print(\"4 -\",4*10*10*10*10)\n",
    "print(\"5 -\",5*10*10*10*10*10)\n",
    "print(\"6 -\",6*10*10*10*10*10*10)\n",
    "print(\"7 -\",7*10*10*10*10*10*10*10)"
   ]
  },
  {
   "cell_type": "code",
   "execution_count": 3,
   "id": "b3efaa77-033c-4a71-af84-ce2b62ac3990",
   "metadata": {},
   "outputs": [
    {
     "name": "stdout",
     "output_type": "stream",
     "text": [
      "1 - 10\n",
      "2 - 200\n",
      "3 - 3000\n",
      "4 - 40000\n",
      "5 - 500000\n",
      "6 - 6000000\n",
      "7 - 70000000\n"
     ]
    }
   ],
   "source": [
    "for i in range(1,8):\n",
    "    print(i, \"-\", i*pow(10,i))"
   ]
  },
  {
   "cell_type": "code",
   "execution_count": 5,
   "id": "98e23687-288d-49a5-b2e9-fd71a602de43",
   "metadata": {},
   "outputs": [
    {
     "name": "stdout",
     "output_type": "stream",
     "text": [
      "[[  1   1   0   3   4]\n",
      " [  0  -1  -1  -5  -7]\n",
      " [  0  -4  -1  -7 -15]\n",
      " [  0   3   3   2   8]]\n"
     ]
    }
   ],
   "source": [
    "from numpy import array \n",
    "A = array([[1,1,0,3,4],\\\n",
    "          [2,1,-1,1,1],\\\n",
    "          [3,-1,-1, 2,-3],\\\n",
    "          [-1, 2, 3,-1,4]])\n",
    "\n",
    "m=A[1][0]/A[0][0] \n",
    "A[1][0]=A[1][0]-m*A[0][0] \n",
    "A[1][1]=A[1][1]-m*A[0][1] \n",
    "A[1][2]=A[1][2]-m*A[0][2] \n",
    "A[1][3]=A[1][3]-m*A[0][3] \n",
    "A[1][4]=A[1][4]-m*A[0][4] \n",
    "\n",
    "m=A[2][0]/A[0][0] \n",
    "A[2][0]=A[2][0]-m*A[0][0] \n",
    "A[2][1]=A[2][1]-m*A[0][1] \n",
    "A[2][2]=A[2][2]-m*A[0][2] \n",
    "A[2][3]=A[2][3]-m*A[0][3] \n",
    "A[2][4]=A[2][4]-m*A[0][4] \n",
    "\n",
    "m=A[3][0]/A[0][0] \n",
    "A[3][0]=A[3][0]-m*A[0][0] \n",
    "A[3][1]=A[3][1]-m*A[0][1]\n",
    "A[3][2]=A[3][2]-m*A[0][2] \n",
    "A[3][3]=A[3][3]-m*A[0][3] \n",
    "A[3][4]=A[3][4]-m*A[0][4] \n",
    "print(A)"
   ]
  },
  {
   "cell_type": "code",
   "execution_count": 7,
   "id": "c2bd096e-9d3d-4dae-b2ee-cdd54d495bb8",
   "metadata": {},
   "outputs": [
    {
     "name": "stdout",
     "output_type": "stream",
     "text": [
      "[[  1   1   0   3   4]\n",
      " [  0  -1  -1  -5  -7]\n",
      " [  0  -4  -1  -7 -15]\n",
      " [  0   3   3   2   8]]\n"
     ]
    }
   ],
   "source": [
    "# hasil optimal dari listing eliminasi gaus diatas\n",
    "for i in range(1, 4):\n",
    "    m = A[i][0]/A[0][0]\n",
    "    for j in range(5):\n",
    "        A[i][j] -= m*A[0][j]\n",
    "\n",
    "print(A)"
   ]
  },
  {
   "cell_type": "code",
   "execution_count": 9,
   "id": "75f2e7ae-948b-4ce8-8314-6cff0258ef22",
   "metadata": {},
   "outputs": [
    {
     "name": "stdout",
     "output_type": "stream",
     "text": [
      "[[ 1  1  0  3  4]\n",
      " [ 2  1 -1  1  1]\n",
      " [ 3 -1 -1  2 -3]\n",
      " [-1  2  3 -1  4]]\n",
      "[[  1   1   0   3   4]\n",
      " [  0  -1  -1  -5  -7]\n",
      " [  0   0   3  13  13]\n",
      " [  0   0   0 -13 -13]]\n",
      "[[-1.]\n",
      " [ 2.]\n",
      " [ 0.]\n",
      " [ 1.]]\n"
     ]
    }
   ],
   "source": [
    "from numpy import array, zeros \n",
    "#inisialisasi matrik augment~~~~~~# \n",
    "A = array([[1,1,0,3,4],\\\n",
    "         [2,1,-1,1,1],\\\n",
    "         [3,-1,-1, 2,-3],\\\n",
    "         [-1,2,3,-1,4]]) \n",
    "print(A)\n",
    "#proses triangularisasi# \n",
    "#-----menghilangkan x1 dari P2 dst-----# \n",
    "m=A[1][0]/A[0][0] \n",
    "A[1][0]=A[1][0]-m*A[0][0] \n",
    "A[1][1]=A[1][1]-m*A[0][1] \n",
    "A[1][2]=A[1][2]-m*A[0][2] \n",
    "A[1][3]=A[1][3]-m*A[0][3] \n",
    "A[1][4]=A[1][4]-m*A[0][4] \n",
    "\n",
    "m=A[2][0]/A[0][0] \n",
    "A[2][0]=A[2][0]-m*A[0][0] \n",
    "A[2][1]=A[2][1]-m*A[0][1] \n",
    "A[2][2]=A[2][2]-m*A[0][2] \n",
    "A[2][3]=A[2][3]-m*A[0][3] \n",
    "A[2][4]=A[2][4]-m*A[0][4] \n",
    "\n",
    "m=A[3][0]/A[0][0] \n",
    "A[3][0]=A[3][0]-m*A[0][0] \n",
    "A[3][1]=A[3][1]-m*A[0][1] \n",
    "A[3][2]=A[3][2]-m*A[0][2] \n",
    "A[3][3]=A[3][3]-m*A[0][3] \n",
    "A[3][4]=A[3][4]-m*A[0][4]\n",
    "\n",
    "#menghilangkan x2 dari P3 dst# \n",
    "m=A[2][1]/A[1][1] \n",
    "A[2][0]=A[2][0]-m*A[1][0] \n",
    "A[2][1]=A[2][1]-m*A[1][1] \n",
    "A[2][2]=A[2][2]-m*A[1][2] \n",
    "A[2][3]=A[2][3]-m*A[1][3] \n",
    "A[2][4]=A[2][4]-m*A[1][4] \n",
    "\n",
    "m=A[3][1]/A[1][1] \n",
    "A[3][0]=A[3][0]-m*A[1][0] \n",
    "A[3][1]=A[3][1]-m*A[1][1] \n",
    "A[3][2]=A[3][2]-m*A[1][2] \n",
    "A[3][3]=A[3][3]-m*A[1][3]\n",
    "A[3][4]=A[3][4]-m*A[1][4]\n",
    "\n",
    "#menghilangkan x3 dari P4 dst\n",
    "m=A[3][2]/A[2][2] \n",
    "A[3][0]=A[3][0]-m*A[2][0] \n",
    "A[3][1]=A[3][1]-m*A[2][1] \n",
    "A[3][2]=A[3][2]-m*A[2][2] \n",
    "A[3][3]=A[3][3]-m*A[2][3] \n",
    "A[3][4]=A[3][4]-m*A[2][4] \n",
    "print(A) \n",
    "\n",
    "#proses substitusi-mundur- \n",
    "X= zeros((4,1)) \n",
    "\n",
    "X[3][0]=A[3][4]/A[3][3] \n",
    "X[2][0]=(A[2][4]-A[2][3]*X[3][0])/A[2][2] \n",
    "X[1][0]=(A[1][4]-(A[1][2]*X[2][0]+A[1][3]*X[3][0]))/A[1][1] \n",
    "X[0][0]=(A[0][4]-(A[0][1]*X[1][0]+A[0][2]*X[2][0]+A[0][3]*X[3][0]))/A[0][0]\n",
    "\n",
    "print(X)"
   ]
  },
  {
   "cell_type": "code",
   "execution_count": 15,
   "id": "0bda81fc-8dea-4665-89a6-5c776ab00216",
   "metadata": {},
   "outputs": [
    {
     "name": "stdout",
     "output_type": "stream",
     "text": [
      "[[  1   1   0   3   4]\n",
      " [  0  -1  -1  -5  -7]\n",
      " [  0   0   3  13  13]\n",
      " [  0   0   0 -13 -13]]\n",
      "[[  1   1   0   3   4]\n",
      " [  0  -1  -1  -5  -7]\n",
      " [  0   0   3  13  13]\n",
      " [  0   0   0 -13 -13]]\n",
      "[[-1.]\n",
      " [ 2.]\n",
      " [ 0.]\n",
      " [ 1.]]\n"
     ]
    }
   ],
   "source": [
    "# hasil optimalisasi dari coding eliminasi gauss diatas\n",
    "# inisialisasi matrik augment\n",
    "print(A)\n",
    "\n",
    "# proses triangularisasi\n",
    "for i in range(len(A)):\n",
    "    for j in range(i+1, len(A)):\n",
    "        m=A[j][i] / A[i][i]\n",
    "        A[j]=A[j] - m*A[i]\n",
    "print(A)\n",
    "\n",
    "# proses substitusi mundur\n",
    "n = len(A)\n",
    "X = zeros((n, 1))\n",
    "\n",
    "for i in range(n-1, -1, -1):\n",
    "    X[i] = (A[i][-1] - sum(A[i][j] * X[j] for j in range(i+1, n))) / A[i][i]\n",
    "\n",
    "print(X)"
   ]
  },
  {
   "cell_type": "code",
   "execution_count": null,
   "id": "3be53cdb-42ea-4813-928c-f2cb5a1a4d14",
   "metadata": {},
   "outputs": [],
   "source": []
  }
 ],
 "metadata": {
  "kernelspec": {
   "display_name": "Python 3 (ipykernel)",
   "language": "python",
   "name": "python3"
  },
  "language_info": {
   "codemirror_mode": {
    "name": "ipython",
    "version": 3
   },
   "file_extension": ".py",
   "mimetype": "text/x-python",
   "name": "python",
   "nbconvert_exporter": "python",
   "pygments_lexer": "ipython3",
   "version": "3.12.4"
  }
 },
 "nbformat": 4,
 "nbformat_minor": 5
}
